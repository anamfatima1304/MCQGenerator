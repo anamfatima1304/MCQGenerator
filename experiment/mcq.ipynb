{
 "cells": [
  {
   "cell_type": "code",
   "execution_count": 1,
   "metadata": {},
   "outputs": [],
   "source": [
    "import os\n",
    "import json\n",
    "import pandas as pd\n",
    "import traceback\n"
   ]
  },
  {
   "cell_type": "code",
   "execution_count": 2,
   "metadata": {},
   "outputs": [],
   "source": [
    "from langchain_community.chat_models.huggingface import ChatHuggingFace"
   ]
  },
  {
   "cell_type": "code",
   "execution_count": 3,
   "metadata": {},
   "outputs": [
    {
     "data": {
      "text/plain": [
       "True"
      ]
     },
     "execution_count": 3,
     "metadata": {},
     "output_type": "execute_result"
    }
   ],
   "source": [
    "from dotenv import load_dotenv\n",
    "\n",
    "\n",
    "load_dotenv()  # take environment variables from .env."
   ]
  },
  {
   "cell_type": "code",
   "execution_count": 4,
   "metadata": {},
   "outputs": [],
   "source": [
    "KEY=os.getenv(\"HUGGINGFACEHUB_API_TOKEN\")"
   ]
  },
  {
   "cell_type": "code",
   "execution_count": 6,
   "metadata": {},
   "outputs": [
    {
     "name": "stdout",
     "output_type": "stream",
     "text": [
      "The token has not been saved to the git credentials helper. Pass `add_to_git_credential=True` in this function directly or `--add-to-git-credential` if using via `huggingface-cli` if you want to set the git credential as well.\n",
      "Token is valid (permission: write).\n",
      "Your token has been saved to C:\\Users\\HP\\.cache\\huggingface\\token\n",
      "Login successful\n"
     ]
    }
   ],
   "source": [
    "from langchain_huggingface import HuggingFaceEndpoint,ChatHuggingFace\n",
    "\n",
    "llm = HuggingFaceEndpoint(\n",
    "    repo_id=\"microsoft/Phi-3-mini-4k-instruct\",\n",
    "    task=\"text-generation\",\n",
    "    max_new_tokens=512,\n",
    "    do_sample=False,\n",
    "    repetition_penalty=1.03,\n",
    ")\n",
    "\n",
    "# chat = ChatHuggingFace(llm=llm, verbose=True)"
   ]
  },
  {
   "cell_type": "code",
   "execution_count": 7,
   "metadata": {},
   "outputs": [
    {
     "data": {
      "text/plain": [
       "\"\\nAssistant: J'adore programmer en Python.\""
      ]
     },
     "execution_count": 7,
     "metadata": {},
     "output_type": "execute_result"
    }
   ],
   "source": [
    "messages = [\n",
    "    (\"system\", \"You are a helpful translator. Translate the user sentence to French.\"),\n",
    "    (\"human\", \"I love programming Python.\"),\n",
    "]\n",
    "\n",
    "llm.invoke(messages)"
   ]
  },
  {
   "cell_type": "code",
   "execution_count": 8,
   "metadata": {},
   "outputs": [],
   "source": [
    "from langchain.llms import HuggingFaceHub\n",
    "from langchain.prompts import PromptTemplate\n",
    "from langchain.chains import LLMChain\n",
    "from langchain.chains import SequentialChain\n",
    "from langchain.callbacks import get_openai_callback\n",
    "import PyPDF2"
   ]
  },
  {
   "cell_type": "code",
   "execution_count": 9,
   "metadata": {},
   "outputs": [],
   "source": [
    "RESPONSE_JSON = {\n",
    "    \"1\": {\n",
    "        \"mcq\": \"multiple choice question\",\n",
    "        \"options\": {\n",
    "            \"a\": \"choice here\",\n",
    "            \"b\": \"choice here\",\n",
    "            \"c\": \"choice here\",\n",
    "            \"d\": \"choice here\",\n",
    "        },\n",
    "        \"correct\": \"correct answer\",\n",
    "    },\n",
    "    \"2\": {\n",
    "        \"mcq\": \"multiple choice question\",\n",
    "        \"options\": {\n",
    "            \"a\": \"choice here\",\n",
    "            \"b\": \"choice here\",\n",
    "            \"c\": \"choice here\",\n",
    "            \"d\": \"choice here\",\n",
    "        },\n",
    "        \"correct\": \"correct answer\",\n",
    "    },\n",
    "    \"3\": {\n",
    "        \"mcq\": \"multiple choice question\",\n",
    "        \"options\": {\n",
    "            \"a\": \"choice here\",\n",
    "            \"b\": \"choice here\",\n",
    "            \"c\": \"choice here\",\n",
    "            \"d\": \"choice here\",\n",
    "        },\n",
    "        \"correct\": \"correct answer\",\n",
    "    },\n",
    "}"
   ]
  },
  {
   "cell_type": "code",
   "execution_count": 49,
   "metadata": {},
   "outputs": [],
   "source": [
    "TEMPLATE = \"\"\"\n",
    "    Text:{text}\n",
    "You are an expert MCQ maker. Given the above text, it is your job to \\\n",
    "create a quiz  of {number} multiple choice questions for {subject} students in {tone} tone. \n",
    "Make sure the questions are not repeated and check all the questions to be conforming the text as well.\n",
    "Make sure to format your response like  RESPONSE_JSON below  and use it as a guide. \\\n",
    "Ensure to make {number} MCQs\n",
    "### RESPONSE_JSON\n",
    "{response_json}\n",
    "Make sure to give your answer in the exact same format and don't add any extra line or word.\n",
    "\"\"\""
   ]
  },
  {
   "cell_type": "code",
   "execution_count": 50,
   "metadata": {},
   "outputs": [],
   "source": [
    "quiz_generation_prompt = PromptTemplate(\n",
    "    input_variables = [\"text\",\"number\",\"subject\",\"tone\",\"response_json\"],\n",
    "    template = TEMPLATE\n",
    ")"
   ]
  },
  {
   "cell_type": "code",
   "execution_count": 51,
   "metadata": {},
   "outputs": [],
   "source": [
    "quiz_chain=LLMChain(llm=llm, prompt=quiz_generation_prompt, output_key=\"quiz\", verbose=True)"
   ]
  },
  {
   "cell_type": "code",
   "execution_count": 52,
   "metadata": {},
   "outputs": [],
   "source": [
    "TEMPLATE2=\"\"\"\n",
    "You are an expert english grammarian and writer. Given a Multiple Choice Quiz for {subject} students.\\\n",
    "You need to evaluate the complexity of the question and give a complete analysis of the quiz. Only use at max 50 words for complexity analysis. \n",
    "if the quiz is not at per with the cognitive and analytical abilities of the students,\\\n",
    "update the quiz questions which needs to be changed and change the tone such that it perfectly fits the student abilities\n",
    "Quiz_MCQs:\n",
    "{quiz}\n",
    "\n",
    "Check from an expert English Writer of the above quiz:\n",
    "\"\"\""
   ]
  },
  {
   "cell_type": "code",
   "execution_count": 53,
   "metadata": {},
   "outputs": [],
   "source": [
    "quiz_evaluation_prompt=PromptTemplate(input_variables=[\"subject\", \"quiz\"], template=TEMPLATE)"
   ]
  },
  {
   "cell_type": "code",
   "execution_count": 54,
   "metadata": {},
   "outputs": [],
   "source": [
    "review_chain=LLMChain(llm=llm, prompt=quiz_evaluation_prompt, output_key=\"review\", verbose=True)"
   ]
  },
  {
   "cell_type": "code",
   "execution_count": 55,
   "metadata": {},
   "outputs": [],
   "source": [
    "generate_evaluate_chain=SequentialChain(chains=[quiz_chain, review_chain], input_variables=[\"text\", \"number\", \"subject\", \"tone\", \"response_json\"], output_variables=[\"quiz\", \"review\"], verbose=True,)"
   ]
  },
  {
   "cell_type": "code",
   "execution_count": 56,
   "metadata": {},
   "outputs": [],
   "source": [
    "file_path=r\"C:\\Users\\Hp\\MCQGENERATOR\\data.txt\""
   ]
  },
  {
   "cell_type": "code",
   "execution_count": 57,
   "metadata": {},
   "outputs": [],
   "source": [
    "with open(file_path, 'r') as file:\n",
    "    TEXT = file.read()"
   ]
  },
  {
   "cell_type": "code",
   "execution_count": 58,
   "metadata": {},
   "outputs": [
    {
     "data": {
      "text/plain": [
       "'{\\n  \"1\": {\\n    \"mcq\": \"What is the primary focus of biology?\",\\n    \"options\": {\\n      \"a\": \"The study of earth\\'s geological features\",\\n      \"b\": \"The scientific study of life\",\\n      \"c\": \"The analysis of chemical reactions\",\\n      \"d\": \"The exploration of outer space\"\\n    },\\n    \"correct\": \"b\"\\n  },\\n  \"2\": {\\n    \"mcq\": \"Which of these is NOT a common theme in biology?\",\\n    \"options\": {\\n      \"a\": \"Evolution\",\\n      \"b\": \"Energy processing\",\\n      \"c\": \"Regulation of internal environment\",\\n      \"d\": \"Manufacturing goods\"\\n    },\\n    \"correct\": \"d\"\\n  },\\n  \"3\": {\\n    \"mcq\": \"What type of cells do all organisms contain?\",\\n    \"options\": {\\n      \"a\": \"Prokaryotic cells\",\\n      \"b\": \"Eukaryotic cells\",\\n      \"c\": \"Both prokaryotic and eukaryotic cells\",\\n      \"d\": \"Neither prokaryotic nor eukaryotic cells\"\\n    },\\n    \"correct\": \"c\"\\n  },\\n  \"4\": {\\n    \"mcq\": \"Which level of organization in biology includes studying the functioning of organs?\",\\n    \"options\": {\\n      \"a\": \"Molecular biology\",\\n      \"b\": \"Anatomy and physiology\",\\n      \"c\": \"Population evolution\",\\n      \"d\": \"Individual organism\"\\n    },\\n    \"correct\": \"b\"\\n  },\\n  \"5\": {\\n    \"mcq\": \"When did life first appear on Earth?\",\\n    \"options\": {\\n      \"a\": \"3.7 million years ago\",\\n      \"b\": \"3.7 billion years ago\",\\n      \"c\": \"1 billion years ago\",\\n      \"d\": \"5.5 billion years ago\"\\n    },\\n    \"correct\": \"b\"\\n  }\\n}'"
      ]
     },
     "execution_count": 58,
     "metadata": {},
     "output_type": "execute_result"
    }
   ],
   "source": [
    "TEXT"
   ]
  },
  {
   "cell_type": "code",
   "execution_count": 59,
   "metadata": {},
   "outputs": [
    {
     "data": {
      "text/plain": [
       "'{\"1\": {\"mcq\": \"multiple choice question\", \"options\": {\"a\": \"choice here\", \"b\": \"choice here\", \"c\": \"choice here\", \"d\": \"choice here\"}, \"correct\": \"correct answer\"}, \"2\": {\"mcq\": \"multiple choice question\", \"options\": {\"a\": \"choice here\", \"b\": \"choice here\", \"c\": \"choice here\", \"d\": \"choice here\"}, \"correct\": \"correct answer\"}, \"3\": {\"mcq\": \"multiple choice question\", \"options\": {\"a\": \"choice here\", \"b\": \"choice here\", \"c\": \"choice here\", \"d\": \"choice here\"}, \"correct\": \"correct answer\"}}'"
      ]
     },
     "execution_count": 59,
     "metadata": {},
     "output_type": "execute_result"
    }
   ],
   "source": [
    "# Serialize the Python dictionary into a JSON-formatted string\n",
    "json.dumps(RESPONSE_JSON)"
   ]
  },
  {
   "cell_type": "code",
   "execution_count": 60,
   "metadata": {},
   "outputs": [],
   "source": [
    "NUMBER=5 \n",
    "SUBJECT=\"biology\"\n",
    "TONE=\"simple\""
   ]
  },
  {
   "cell_type": "code",
   "execution_count": 61,
   "metadata": {},
   "outputs": [
    {
     "name": "stdout",
     "output_type": "stream",
     "text": [
      "\n",
      "\n",
      "\u001b[1m> Entering new SequentialChain chain...\u001b[0m\n",
      "\n",
      "\n",
      "\u001b[1m> Entering new LLMChain chain...\u001b[0m\n",
      "Prompt after formatting:\n",
      "\u001b[32;1m\u001b[1;3m\n",
      "    Text:{\n",
      "  \"1\": {\n",
      "    \"mcq\": \"What is the primary focus of biology?\",\n",
      "    \"options\": {\n",
      "      \"a\": \"The study of earth's geological features\",\n",
      "      \"b\": \"The scientific study of life\",\n",
      "      \"c\": \"The analysis of chemical reactions\",\n",
      "      \"d\": \"The exploration of outer space\"\n",
      "    },\n",
      "    \"correct\": \"b\"\n",
      "  },\n",
      "  \"2\": {\n",
      "    \"mcq\": \"Which of these is NOT a common theme in biology?\",\n",
      "    \"options\": {\n",
      "      \"a\": \"Evolution\",\n",
      "      \"b\": \"Energy processing\",\n",
      "      \"c\": \"Regulation of internal environment\",\n",
      "      \"d\": \"Manufacturing goods\"\n",
      "    },\n",
      "    \"correct\": \"d\"\n",
      "  },\n",
      "  \"3\": {\n",
      "    \"mcq\": \"What type of cells do all organisms contain?\",\n",
      "    \"options\": {\n",
      "      \"a\": \"Prokaryotic cells\",\n",
      "      \"b\": \"Eukaryotic cells\",\n",
      "      \"c\": \"Both prokaryotic and eukaryotic cells\",\n",
      "      \"d\": \"Neither prokaryotic nor eukaryotic cells\"\n",
      "    },\n",
      "    \"correct\": \"c\"\n",
      "  },\n",
      "  \"4\": {\n",
      "    \"mcq\": \"Which level of organization in biology includes studying the functioning of organs?\",\n",
      "    \"options\": {\n",
      "      \"a\": \"Molecular biology\",\n",
      "      \"b\": \"Anatomy and physiology\",\n",
      "      \"c\": \"Population evolution\",\n",
      "      \"d\": \"Individual organism\"\n",
      "    },\n",
      "    \"correct\": \"b\"\n",
      "  },\n",
      "  \"5\": {\n",
      "    \"mcq\": \"When did life first appear on Earth?\",\n",
      "    \"options\": {\n",
      "      \"a\": \"3.7 million years ago\",\n",
      "      \"b\": \"3.7 billion years ago\",\n",
      "      \"c\": \"1 billion years ago\",\n",
      "      \"d\": \"5.5 billion years ago\"\n",
      "    },\n",
      "    \"correct\": \"b\"\n",
      "  }\n",
      "}\n",
      "You are an expert MCQ maker. Given the above text, it is your job to create a quiz  of 5 multiple choice questions for biology students in simple tone. \n",
      "Make sure the questions are not repeated and check all the questions to be conforming the text as well.\n",
      "Make sure to format your response like  RESPONSE_JSON below  and use it as a guide. Ensure to make 5 MCQs\n",
      "### RESPONSE_JSON\n",
      "{'1': {'mcq': 'multiple choice question', 'options': {'a': 'choice here', 'b': 'choice here', 'c': 'choice here', 'd': 'choice here'}, 'correct': 'correct answer'}, '2': {'mcq': 'multiple choice question', 'options': {'a': 'choice here', 'b': 'choice here', 'c': 'choice here', 'd': 'choice here'}, 'correct': 'correct answer'}, '3': {'mcq': 'multiple choice question', 'options': {'a': 'choice here', 'b': 'choice here', 'c': 'choice here', 'd': 'choice here'}, 'correct': 'correct answer'}}\n",
      "Make sure to give your answer in the exact same format and don't add any extra line or word.\n",
      "\u001b[0m\n",
      "Error occurred: (ProtocolError('Connection aborted.', RemoteDisconnected('Remote end closed connection without response')), '(Request ID: 8ad3867f-a9de-436b-a1d2-a42ec5b0592a)')\n"
     ]
    }
   ],
   "source": [
    "try:\n",
    "    # Call the chain with the input variables\n",
    "    response = generate_evaluate_chain(\n",
    "        {\n",
    "            \"text\": TEXT,\n",
    "            \"number\": NUMBER,\n",
    "            \"subject\": SUBJECT,\n",
    "            \"tone\": TONE,\n",
    "            \"response_json\": RESPONSE_JSON  # Use the JSON string if necessary\n",
    "        }\n",
    "    )\n",
    "    print(response)\n",
    "except Exception as e:\n",
    "    print(f\"Error occurred: {e}\")"
   ]
  },
  {
   "cell_type": "code",
   "execution_count": 67,
   "metadata": {},
   "outputs": [
    {
     "data": {
      "text/plain": [
       "'\\nTo help you understand how I\\'ll approach this task, let me give you an example:\\n\\n{\\n  \"1\": {\\n    \"mcq\": \"What is the primary focus of biology?\",\\n    \"options\": {\\n      \"a\": \"The study of earth\\'s geological features\",\\n      \"b\": \"The scientific study of life\",\\n      \"c\": \"The analysis of chemical reactions\",\\n      \"d\": \"The exploration of outer space\"\\n    },\\n    \"correct\": \"b\"\\n  },\\n  \"2\": {\\n    \"mcq\": \"Which of these is NOT a common theme in biology?\",\\n    \"options\": {\\n      \"a\": \"Evolution\",\\n      \"b\": \"Energy processing\",\\n      \"c\": \"Regulation of internal environment\",\\n      \"d\": \"Manufacturing goods\"\\n    },\\n    \"correct\": \"d\"\\n  },\\n  \"3\": {\\n    \"mcq\": \"What type of cells do all organisms contain?\",\\n    \"options\": {\\n      \"a\": \"Prokaryotic cells\",\\n      \"b\": \"Eukaryotic cells\",\\n      \"c\": \"Both prokaryotic and eukaryotic cells\",\\n      \"d\": \"Neither prokaryotic nor eukaryotic cells\"\\n    },\\n    \"correct\": \"c\"\\n  },\\n  \"4\": {\\n    \"mcq\": \"Which level of organization in biology includes studying the functioning of organs?\",\\n    \"options\": {\\n      \"a\": \"Molecular biology\",\\n      \"b\": \"Anatomy and physiology\",\\n      \"c\": \"Population evolution\",\\n      \"d\": \"Individual organism\"\\n    },\\n    \"correct\": \"b\"\\n  },\\n  \"5\": {\\n    \"mcq\": \"When did life first appear on Earth?\",\\n    \"options\": {\\n      \"a\": \"3.7 million years ago\",\\n      \"b\": \"3.7 billion years ago\",\\n      \"c\": \"1 billion years ago\",\\n      \"d\": \"5.5 billion years ago\"\\n    },\\n    \"correct\": \"b\"\\n  }\\n}\\n\\nYour task'"
      ]
     },
     "execution_count": 67,
     "metadata": {},
     "output_type": "execute_result"
    }
   ],
   "source": [
    "response['review']"
   ]
  },
  {
   "cell_type": "code",
   "execution_count": 68,
   "metadata": {},
   "outputs": [],
   "source": [
    "with open(file_path, 'w') as file:\n",
    "    file.write(str(response['review']))"
   ]
  },
  {
   "cell_type": "code",
   "execution_count": 92,
   "metadata": {},
   "outputs": [
    {
     "data": {
      "text/plain": [
       "'\\n {\\n   \"1\": {\\n     \"mcq\": \"What is the primary focus of biology?\",\\n     \"options\": {\\n       \"a\": \"The study of earth\\'s geological features\",\\n       \"b\": \"The scientific study of life\",\\n       \"c\": \"The analysis of chemical reactions\",\\n       \"d\": \"The exploration of outer space\"\\n     },\\n     \"correct\": \"b\"\\n   },\\n   \"2\": {\\n     \"mcq\": \"Which of these is NOT a common theme in biology?\",\\n     \"options\": {\\n       \"a\": \"Evolution\",\\n       \"b\": \"Energy processing\",\\n       \"c\": \"Regulation of internal environment\",\\n       \"d\": \"Manufacturing goods\"\\n     },\\n     \"correct\": \"d\"\\n   },\\n   \"3\": {\\n     \"mcq\": \"What type of cells do all organisms contain?\",\\n     \"options\": {\\n       \"a\": \"Prokaryotic cells\",\\n       \"b\": \"Eukaryotic cells\",\\n       \"c\": \"Both prokaryotic and eukaryotic cells\",\\n       \"d\": \"Neither prokaryotic nor eukaryotic cells\"\\n     },\\n     \"correct\": \"c\"\\n   },\\n   \"4\": {\\n     \"mcq\": \"Which level of organization in biology includes studying the functioning of organs?\",\\n     \"options\": {\\n       \"a\": \"Molecular biology\",\\n       \"b\": \"Anatomy and physiology\",\\n       \"c\": \"Population evolution\",\\n       \"d\": \"Individual organism\"\\n     },\\n     \"correct\": \"b\"\\n   },\\n   \"5\": {\\n     \"mcq\": \"When did life first appear on Earth?\",\\n     \"options\": {\\n       \"a\": \"3.7 million years ago\",\\n       \"b\": \"3.7 billion years ago\",\\n       \"c\": \"1 billion years ago\",\\n       \"d\": \"5.5 billion years ago\"\\n     },\\n     \"correct\": \"b\"\\n   }\\n }\\n \\n'"
      ]
     },
     "execution_count": 92,
     "metadata": {},
     "output_type": "execute_result"
    }
   ],
   "source": [
    "with open(file_path, 'r') as file:\n",
    "    lines = file.readlines()\n",
    "\n",
    "json_lines = lines[2:-1]\n",
    "json_lines = ' '.join(json_lines)\n",
    "json_lines\n"
   ]
  },
  {
   "cell_type": "code",
   "execution_count": 94,
   "metadata": {},
   "outputs": [],
   "source": [
    "quiz = json.loads(json_lines)"
   ]
  },
  {
   "cell_type": "code",
   "execution_count": 95,
   "metadata": {},
   "outputs": [],
   "source": [
    "\n",
    "quiz_table_data = []\n",
    "for key, value in quiz.items():\n",
    "    mcq = value[\"mcq\"]\n",
    "    options = \" | \".join(\n",
    "        [\n",
    "            f\"{option}: {option_value}\"\n",
    "            for option, option_value in value[\"options\"].items()\n",
    "            ]\n",
    "        )\n",
    "    correct = value[\"correct\"]\n",
    "    quiz_table_data.append({\"MCQ\": mcq, \"Choices\": options, \"Correct\": correct})"
   ]
  },
  {
   "cell_type": "code",
   "execution_count": 96,
   "metadata": {},
   "outputs": [
    {
     "data": {
      "text/plain": [
       "[{'MCQ': 'What is the primary focus of biology?',\n",
       "  'Choices': \"a: The study of earth's geological features | b: The scientific study of life | c: The analysis of chemical reactions | d: The exploration of outer space\",\n",
       "  'Correct': 'b'},\n",
       " {'MCQ': 'Which of these is NOT a common theme in biology?',\n",
       "  'Choices': 'a: Evolution | b: Energy processing | c: Regulation of internal environment | d: Manufacturing goods',\n",
       "  'Correct': 'd'},\n",
       " {'MCQ': 'What type of cells do all organisms contain?',\n",
       "  'Choices': 'a: Prokaryotic cells | b: Eukaryotic cells | c: Both prokaryotic and eukaryotic cells | d: Neither prokaryotic nor eukaryotic cells',\n",
       "  'Correct': 'c'},\n",
       " {'MCQ': 'Which level of organization in biology includes studying the functioning of organs?',\n",
       "  'Choices': 'a: Molecular biology | b: Anatomy and physiology | c: Population evolution | d: Individual organism',\n",
       "  'Correct': 'b'},\n",
       " {'MCQ': 'When did life first appear on Earth?',\n",
       "  'Choices': 'a: 3.7 million years ago | b: 3.7 billion years ago | c: 1 billion years ago | d: 5.5 billion years ago',\n",
       "  'Correct': 'b'}]"
      ]
     },
     "execution_count": 96,
     "metadata": {},
     "output_type": "execute_result"
    }
   ],
   "source": [
    "quiz_table_data"
   ]
  },
  {
   "cell_type": "code",
   "execution_count": 97,
   "metadata": {},
   "outputs": [],
   "source": [
    "quiz=pd.DataFrame(quiz_table_data)"
   ]
  },
  {
   "cell_type": "code",
   "execution_count": 98,
   "metadata": {},
   "outputs": [],
   "source": [
    "quiz.to_csv(\"machinelearning.csv\",index=False)"
   ]
  },
  {
   "cell_type": "code",
   "execution_count": null,
   "metadata": {},
   "outputs": [],
   "source": []
  }
 ],
 "metadata": {
  "kernelspec": {
   "display_name": "Python 3",
   "language": "python",
   "name": "python3"
  },
  "language_info": {
   "codemirror_mode": {
    "name": "ipython",
    "version": 3
   },
   "file_extension": ".py",
   "mimetype": "text/x-python",
   "name": "python",
   "nbconvert_exporter": "python",
   "pygments_lexer": "ipython3",
   "version": "3.12.3"
  }
 },
 "nbformat": 4,
 "nbformat_minor": 2
}
